{
  "nbformat": 4,
  "nbformat_minor": 0,
  "metadata": {
    "colab": {
      "name": "Pump It Up Initial",
      "provenance": [],
      "collapsed_sections": [],
      "mount_file_id": "1E3eBIuHHOXfz9lJZcqLka2yaTwHv5dO5",
      "authorship_tag": "ABX9TyNx3/FY43kMSHRurUdgKk5v",
      "include_colab_link": true
    },
    "kernelspec": {
      "name": "python3",
      "display_name": "Python 3"
    },
    "accelerator": "TPU"
  },
  "cells": [
    {
      "cell_type": "markdown",
      "metadata": {
        "id": "view-in-github",
        "colab_type": "text"
      },
      "source": [
        "<a href=\"https://colab.research.google.com/github/Per-Y/Driven_Data-Pump_It_Up/blob/master/Pump_It_Up_Initial.ipynb\" target=\"_parent\"><img src=\"https://colab.research.google.com/assets/colab-badge.svg\" alt=\"Open In Colab\"/></a>"
      ]
    },
    {
      "cell_type": "markdown",
      "metadata": {
        "id": "KYsYSrJWR3xt",
        "colab_type": "text"
      },
      "source": [
        "# Driven Data - Pump it Up\n",
        "## Initial Submission Notebook\n",
        "\n",
        "Latest Edit : *5-Sep-2020*\n",
        "\n",
        "In this notebook, I have explained the process of making a first submission to the Driven Data Challenge '[Pump it Up](https://www.drivendata.org/competitions/7/pump-it-up-data-mining-the-water-table/)'. This notebook will be followed up with a second notebook which will do hyperparameter optimization for the models used here and the results will be compared.\n",
        "\n",
        "TBU:\n",
        "\n",
        "1.   Background\n",
        "2.   Exploratory Data Analysis\n",
        "\n",
        "\n"
      ]
    },
    {
      "cell_type": "markdown",
      "metadata": {
        "id": "Q6sqwGlZhmTH",
        "colab_type": "text"
      },
      "source": [
        "**Preprocessing of Data - Basics** \n",
        "\n",
        "In this section, some basic actions are taken :\n",
        "\n",
        "1.   Import the dataset csv files as dataframes\n",
        "2.   Combine the training and test data for preprocessing\n",
        "3.   Assign Numerical Values to the 'Status Group' target category to suit training of models\n",
        "\n"
      ]
    },
    {
      "cell_type": "code",
      "metadata": {
        "id": "x3Xk__viW8Go",
        "colab_type": "code",
        "colab": {}
      },
      "source": [
        "# Importing Basic Libraries\n",
        "import pandas as pd\n",
        "import numpy as np\n",
        "\n",
        "train_data = pd.read_csv('/content/drive/My Drive/Colab Notebooks/Pump It Up/Data Values_Train.csv')\n",
        "train_labels = pd.read_csv('/content/drive/My Drive/Colab Notebooks/Pump It Up/Data Labels_Train.csv')\n",
        "test_data = pd.read_csv('/content/drive/My Drive/Colab Notebooks/Pump It Up/Data Values_Test.csv')\n",
        "\n",
        "# Combine train and test data\n",
        "train_data['train'] = 1\n",
        "test_data['train'] = 0\n",
        "combined = pd.concat([train_data,test_data])\n",
        "\n",
        "# assign numerical labels\n",
        "label_dict_status_group = {'functional':0, 'non functional': 1, 'functional needs repair': 2}\n",
        "train_labels.status_group = train_labels.status_group.replace(label_dict_status_group)"
      ],
      "execution_count": 19,
      "outputs": []
    },
    {
      "cell_type": "markdown",
      "metadata": {
        "id": "1wJzUqaMiyzw",
        "colab_type": "text"
      },
      "source": [
        "\n",
        "**Exploratory Data Analysis** - Python\n",
        "\n",
        "\n"
      ]
    },
    {
      "cell_type": "code",
      "metadata": {
        "id": "fAlFXUvZiyIF",
        "colab_type": "code",
        "colab": {
          "base_uri": "https://localhost:8080/",
          "height": 52
        },
        "outputId": "750b8bd2-9d01-489c-ecf4-bb3998922a4b"
      },
      "source": [
        "\"\"\"\n",
        "combined\n",
        "#Checking Null Values\n",
        "train_data.isnull().sum()\n",
        "import reverse_geocoder as rg \n",
        "import pprint \n",
        "from pygeocoder import Geocoder\n",
        "coordinates = (-3.821329,37.460664)\n",
        "result = rg.search(coordinates)\n",
        "pprint.pprint(result)\n",
        "\n",
        "\"\"\""
      ],
      "execution_count": 20,
      "outputs": [
        {
          "output_type": "execute_result",
          "data": {
            "application/vnd.google.colaboratory.intrinsic+json": {
              "type": "string"
            },
            "text/plain": [
              "'\\ncombined\\n#Checking Null Values\\ntrain_data.isnull().sum()\\nimport reverse_geocoder as rg \\nimport pprint \\nfrom pygeocoder import Geocoder\\ncoordinates = (-3.821329,37.460664)\\nresult = rg.search(coordinates)\\npprint.pprint(result)\\n\\n'"
            ]
          },
          "metadata": {
            "tags": []
          },
          "execution_count": 20
        }
      ]
    },
    {
      "cell_type": "markdown",
      "metadata": {
        "id": "YR_kD0llTKRw",
        "colab_type": "text"
      },
      "source": [
        "**Exploratory Data Analysis** - Tableau\n"
      ]
    },
    {
      "cell_type": "markdown",
      "metadata": {
        "id": "uoZlXT69inCn",
        "colab_type": "text"
      },
      "source": [
        "**Preprocessing of Data - Advanced**\n",
        "\n",
        "In this section we do a few crucial actions :\n",
        "\n",
        "1.   Remove the redundant features as identified in the previous section which includes\n",
        "    *   Columns with several NaN values\n",
        "    *   Columns with duplicate information\n",
        "    *   Columns with a single value for all rows\n",
        "    *   Columns with coordinates (other features act as a proxy for location information)\n",
        "2.   Convert True/False boolean statements to integer type\n",
        "3.   Perform one-hot encoding of categorical features (only top 25 most common values of each feature to be used)\n",
        "4.   Merging Test Data with Labels\n",
        "\n",
        "\n"
      ]
    },
    {
      "cell_type": "code",
      "metadata": {
        "id": "lDoxv7A3ir6q",
        "colab_type": "code",
        "colab": {}
      },
      "source": [
        "# Dropping Redundant Features (ie. columns with too many blanks, duplicate information, single value for all rows, coordinates)\n",
        "combined = combined.drop(['source_type','date_recorded', 'source_class', 'waterpoint_type_group', 'longitude','latitude', 'quantity_group', 'num_private', 'subvillage', 'region','scheme_name','recorded_by','extraction_type'],axis=1)\n",
        "\n",
        "# Converting Booleans to Integer Values\n",
        "combined.permit = combined.permit.astype(bool).astype(int)\n",
        "combined.public_meeting = combined.public_meeting.astype(bool).astype(int)\n",
        "\n",
        "# List of columns to be one-hot encoded\n",
        "cat_columns = ['funder', 'installer', 'wpt_name', 'basin', 'region_code', 'district_code', 'lga', 'ward', 'public_meeting', 'scheme_management', 'permit', 'extraction_type_group', 'extraction_type_class', 'management', 'management_group', 'payment', 'payment_type', 'water_quality', 'quality_group', 'quantity', 'source', 'waterpoint_type']\n",
        "\n",
        "# Selecting only the top 25 values per column for one-hot encoding\n",
        "for col in cat_columns:\n",
        "  # List of top 25 values for the feature 'col'\n",
        "  top = [x for x in combined[col].value_counts().iloc[:25].index]\n",
        "  for val in top:\n",
        "    # Manual one-hot encoding for each value 'val' in the top 25 values\n",
        "    combined[col + \"_\" + str(val)]=np.where(combined[col]==val,1,0)\n",
        "\n",
        "# Dropping original columns after encoding\n",
        "combined.drop(cat_columns, axis=1, inplace=True)\n",
        "\n",
        "# Separating test and train data\n",
        "train_data=combined[combined['train']==1]\n",
        "test_data=combined[combined['train']==0]\n",
        "train_data = train_data.drop(['train'],axis=1)\n",
        "test_data = test_data.drop(['train'],axis=1)\n",
        "\n",
        "# Merging labels with train data\n",
        "train_data = pd.merge(train_data, train_labels, on = 'id')"
      ],
      "execution_count": 21,
      "outputs": []
    },
    {
      "cell_type": "code",
      "metadata": {
        "id": "-C__wC0LzW7H",
        "colab_type": "code",
        "colab": {
          "base_uri": "https://localhost:8080/",
          "height": 34
        },
        "outputId": "86d9bd94-43e7-4669-e81f-234f97f14cc0"
      },
      "source": [
        "# Cross checking if any Nulls remain\n",
        "train_data.isnull().sum().sum()"
      ],
      "execution_count": 22,
      "outputs": [
        {
          "output_type": "execute_result",
          "data": {
            "text/plain": [
              "0"
            ]
          },
          "metadata": {
            "tags": []
          },
          "execution_count": 22
        }
      ]
    },
    {
      "cell_type": "markdown",
      "metadata": {
        "id": "U88bbQcjxvzy",
        "colab_type": "text"
      },
      "source": [
        "**Modeling - Unoptimized**\n",
        "\n",
        "Here we attempt to run a variety of standard classifiers on our dataset. First we shall import all the necessary libraries then proceed to use the following models :\n",
        "\n",
        "1.   XGBoost Classifier\n",
        "2.   Logistic Regression Classifier\n",
        "3.   Support Vector Classifier\n",
        "4.   Tensorflow Classifier\n",
        "\n"
      ]
    },
    {
      "cell_type": "code",
      "metadata": {
        "id": "i_50XMcKXJjO",
        "colab_type": "code",
        "colab": {}
      },
      "source": [
        "# Global libraries\n",
        "import pandas as pd\n",
        "import numpy as np\n",
        "import matplotlib.pyplot as plt\n",
        "import time\n",
        "from sklearn.model_selection import train_test_split, cross_val_score, cross_val_predict, RandomizedSearchCV, KFold, GridSearchCV\n",
        "from sklearn.metrics import accuracy_score\n",
        "from sklearn.metrics import classification_report, confusion_matrix\n",
        "from sklearn import metrics\n",
        "\n",
        "#Creating test-train split\n",
        "X_train, X_test, y_train, y_test = train_test_split(train_data.drop(columns=['status_group','id']), train_data['status_group'],test_size=0.33, random_state=420)\n"
      ],
      "execution_count": 23,
      "outputs": []
    },
    {
      "cell_type": "markdown",
      "metadata": {
        "id": "rlya7oeszo9Q",
        "colab_type": "text"
      },
      "source": [
        "**XGBoost Classifier**"
      ]
    },
    {
      "cell_type": "code",
      "metadata": {
        "id": "FzLxRseYznvY",
        "colab_type": "code",
        "colab": {
          "base_uri": "https://localhost:8080/",
          "height": 202
        },
        "outputId": "19a4f779-b9ac-4489-83c4-91090f0cbeb1"
      },
      "source": [
        "from xgboost.sklearn import XGBClassifier\n",
        "\n",
        "clf_xgb = XGBClassifier(objective='multi:softmax')\n",
        "\n",
        "start_time = time.time()\n",
        "clf_xgb.fit(X_train,y_train)\n",
        "\n",
        "print(\"System took %s seconds to model\" % (time.time() - start_time))\n",
        "print(classification_report(y_test,clf_xgb.predict(X_test)))"
      ],
      "execution_count": 24,
      "outputs": [
        {
          "output_type": "stream",
          "text": [
            "System took 70.55963063240051 seconds to model\n",
            "              precision    recall  f1-score   support\n",
            "\n",
            "           0       0.71      0.94      0.81     10659\n",
            "           1       0.85      0.60      0.71      7498\n",
            "           2       0.81      0.09      0.17      1445\n",
            "\n",
            "    accuracy                           0.75     19602\n",
            "   macro avg       0.79      0.55      0.56     19602\n",
            "weighted avg       0.77      0.75      0.72     19602\n",
            "\n"
          ],
          "name": "stdout"
        }
      ]
    },
    {
      "cell_type": "markdown",
      "metadata": {
        "id": "OtU26bc90Yjq",
        "colab_type": "text"
      },
      "source": [
        "**Logistic Regression Classifer**"
      ]
    },
    {
      "cell_type": "code",
      "metadata": {
        "id": "zgOtGC__1AvP",
        "colab_type": "code",
        "colab": {
          "base_uri": "https://localhost:8080/",
          "height": 255
        },
        "outputId": "5a91e897-d689-4d23-f3eb-3d5240e0c722"
      },
      "source": [
        "from sklearn.linear_model import LogisticRegression\n",
        "\n",
        "clf_lr = LogisticRegression(solver='saga',max_iter=150)\n",
        "\n",
        "start_time = time.time()\n",
        "clf_lr.fit(X_train,y_train)\n",
        "\n",
        "print(\"System took %s seconds to model\" % (time.time() - start_time))\n",
        "print(classification_report(y_test,clf_lr.predict(X_test)))"
      ],
      "execution_count": 25,
      "outputs": [
        {
          "output_type": "stream",
          "text": [
            "System took 40.588690757751465 seconds to model\n",
            "              precision    recall  f1-score   support\n",
            "\n",
            "           0       0.57      0.90      0.69     10659\n",
            "           1       0.57      0.20      0.30      7498\n",
            "           2       0.00      0.00      0.00      1445\n",
            "\n",
            "    accuracy                           0.57     19602\n",
            "   macro avg       0.38      0.37      0.33     19602\n",
            "weighted avg       0.53      0.57      0.49     19602\n",
            "\n"
          ],
          "name": "stdout"
        },
        {
          "output_type": "stream",
          "text": [
            "/usr/local/lib/python3.6/dist-packages/sklearn/linear_model/_sag.py:330: ConvergenceWarning: The max_iter was reached which means the coef_ did not converge\n",
            "  \"the coef_ did not converge\", ConvergenceWarning)\n"
          ],
          "name": "stderr"
        }
      ]
    },
    {
      "cell_type": "markdown",
      "metadata": {
        "id": "NPqUY5dV4Iyg",
        "colab_type": "text"
      },
      "source": [
        "**Support Vector Classifier**"
      ]
    },
    {
      "cell_type": "code",
      "metadata": {
        "id": "Vr77Dqsz6Bv7",
        "colab_type": "code",
        "colab": {
          "base_uri": "https://localhost:8080/",
          "height": 255
        },
        "outputId": "a697f393-f5a0-4ce7-ba22-78600736985e"
      },
      "source": [
        "from sklearn.svm import LinearSVC\n",
        "\n",
        "clf_svm = LinearSVC()\n",
        "\n",
        "start_time = time.time()\n",
        "clf_svm.fit(X_train,y_train)\n",
        "\n",
        "print(\"System took %s seconds to model\" % (time.time() - start_time))\n",
        "print(classification_report(y_test,clf_svm.predict(X_test)))"
      ],
      "execution_count": 26,
      "outputs": [
        {
          "output_type": "stream",
          "text": [
            "System took 28.31534218788147 seconds to model\n",
            "              precision    recall  f1-score   support\n",
            "\n",
            "           0       0.66      0.93      0.77     10659\n",
            "           1       0.84      0.48      0.61      7498\n",
            "           2       0.28      0.08      0.12      1445\n",
            "\n",
            "    accuracy                           0.69     19602\n",
            "   macro avg       0.59      0.50      0.50     19602\n",
            "weighted avg       0.70      0.69      0.66     19602\n",
            "\n"
          ],
          "name": "stdout"
        },
        {
          "output_type": "stream",
          "text": [
            "/usr/local/lib/python3.6/dist-packages/sklearn/svm/_base.py:947: ConvergenceWarning: Liblinear failed to converge, increase the number of iterations.\n",
            "  \"the number of iterations.\", ConvergenceWarning)\n"
          ],
          "name": "stderr"
        }
      ]
    },
    {
      "cell_type": "markdown",
      "metadata": {
        "id": "WRefLjtA6O_q",
        "colab_type": "text"
      },
      "source": [
        "Note that we used LinearSVC since Multiclass SVC using one-versus-one solver takes too long due to its O(n*2) complexity. Due to this, our accuracy for the third class will always be zero.\n",
        "\n",
        "**Artificial Neural Network Classifier / Multilayer Perceptron**"
      ]
    },
    {
      "cell_type": "code",
      "metadata": {
        "id": "sKpn0ffaCbxN",
        "colab_type": "code",
        "colab": {
          "base_uri": "https://localhost:8080/",
          "height": 202
        },
        "outputId": "8c51922d-c275-4dda-f182-7399881f5ce7"
      },
      "source": [
        "import sklearn.neural_network\n",
        "clf_mlp = sklearn.neural_network.MLPClassifier(hidden_layer_sizes=(100, ), activation='relu', solver='adam', \n",
        "                                                 alpha=0.0001, batch_size='auto', learning_rate='constant', learning_rate_init=0.001, power_t=0.5, \n",
        "                                                 max_iter=1000, shuffle=True, random_state=None, tol=0.0001, verbose=False, warm_start=False, momentum=0.9, \n",
        "                                                 nesterovs_momentum=True, early_stopping=False, validation_fraction=0.1, beta_1=0.9, beta_2=0.999, epsilon=1e-08, \n",
        "                                                 n_iter_no_change=10)\n",
        "\n",
        "start_time = time.time()\n",
        "clf_mlp.fit(X_train,y_train)\n",
        "\n",
        "print(\"System took %s seconds to model\" % (time.time() - start_time))\n",
        "print(classification_report(y_test,clf_mlp.predict(X_test)))"
      ],
      "execution_count": 27,
      "outputs": [
        {
          "output_type": "stream",
          "text": [
            "System took 27.898871183395386 seconds to model\n",
            "              precision    recall  f1-score   support\n",
            "\n",
            "           0       0.77      0.82      0.79     10659\n",
            "           1       0.73      0.74      0.73      7498\n",
            "           2       0.48      0.19      0.28      1445\n",
            "\n",
            "    accuracy                           0.74     19602\n",
            "   macro avg       0.66      0.59      0.60     19602\n",
            "weighted avg       0.73      0.74      0.73     19602\n",
            "\n"
          ],
          "name": "stdout"
        }
      ]
    },
    {
      "cell_type": "markdown",
      "metadata": {
        "id": "Jp0_kx99DfzM",
        "colab_type": "text"
      },
      "source": [
        "**Results - Unoptimized**\n",
        "\n",
        "We have XGBoost and MLP as our best performing models without any hyperparameter optimization. For references, we shall be running all of the models on the competition's test data and submit them to get a conclusive view of their effectiveness."
      ]
    },
    {
      "cell_type": "code",
      "metadata": {
        "id": "Q5pFri3GEvTO",
        "colab_type": "code",
        "colab": {}
      },
      "source": [
        "# Finding the predictions from the models on the final test data\n",
        "xgb_pred = pd.DataFrame({'status_group' : clf_xgb.predict(test_data.drop(['id'],axis=1))})\n",
        "lr_pred = pd.DataFrame({'status_group' : clf_lr.predict(test_data.drop(['id'],axis=1))})\n",
        "svm_pred = pd.DataFrame({'status_group' : clf_svm.predict(test_data.drop(['id'],axis=1))})\n",
        "mlp_pred = pd.DataFrame({'status_group' : clf_mlp.predict(test_data.drop(['id'],axis=1))})\n",
        "\n",
        "# Adding the id column back to the predicitions\n",
        "id_df = pd.DataFrame(test_data['id'])\n",
        "xgb_pred = id_df.merge(xgb_pred,left_index=True,right_index=True)\n",
        "lr_pred = id_df.merge(lr_pred,left_index=True,right_index=True)\n",
        "svm_pred = id_df.merge(svm_pred,left_index=True,right_index=True)\n",
        "mlp_pred = id_df.merge(mlp_pred,left_index=True,right_index=True)\n",
        "\n",
        "\n",
        "# Creating Submission Files\n",
        "label_dict_status_group = {0:'functional', 1:'non functional', 2:'functional needs repair'}\n",
        "xgb_pred.status_group = xgb_pred.status_group.replace(label_dict_status_group)\n",
        "lr_pred.status_group = lr_pred.status_group.replace(label_dict_status_group)\n",
        "svm_pred.status_group = svm_pred.status_group.replace(label_dict_status_group)\n",
        "mlp_pred.status_group = mlp_pred.status_group.replace(label_dict_status_group)\n",
        "\n",
        "# Exporting the data to csv files for submission\n",
        "pd.DataFrame(xgb_pred).to_csv('xgb_pred.csv',index=False)\n",
        "pd.DataFrame(lr_pred).to_csv('lr_pred.csv',index=False)\n",
        "pd.DataFrame(svm_pred).to_csv('svm_pred.csv',index=False)\n",
        "pd.DataFrame(mlp_pred).to_csv('mlp_pred.csv',index=False)"
      ],
      "execution_count": 60,
      "outputs": []
    },
    {
      "cell_type": "markdown",
      "metadata": {
        "id": "e0b3LRhNVJGW",
        "colab_type": "text"
      },
      "source": [
        "We submitted the files to the portal and found that XGBoost performed the best followed by MLP and SVM. The scores are given below:\n",
        "\n",
        "![SubmissionResults_5_9_2020.png](data:image/png;base64,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)\n",
        "\n",
        "> XGB received 0.7467\n",
        "\n",
        "> MLP Received 0.7459\n",
        "\n",
        "> SVM received 0.6927\n",
        "\n",
        "In the next notebook, we will optimize the parameters and discuss possible improvements to the project."
      ]
    },
    {
      "cell_type": "code",
      "metadata": {
        "id": "vmb_wvE4W1El",
        "colab_type": "code",
        "colab": {}
      },
      "source": [
        ""
      ],
      "execution_count": null,
      "outputs": []
    }
  ]
}